{
 "cells": [
  {
   "cell_type": "markdown",
   "metadata": {},
   "source": [
    "## Module Imports"
   ]
  },
  {
   "cell_type": "code",
   "execution_count": 2,
   "metadata": {},
   "outputs": [],
   "source": [
    "import numpy as np\n",
    "import pandas as pd\n",
    "import matplotlib.pyplot as plt\n",
    "import seaborn as sns\n",
    "\n",
    "from sklearn import metrics\n",
    "from sklearn.model_selection import train_test_split, GridSearchCV, cross_val_score\n",
    "\n",
    "from sklearn.linear_model import LinearRegression, LassoCV, RidgeCV, Lasso, Ridge\n",
    "\n",
    "\n",
    "\n",
    "from sklearn.metrics import r2_score, mean_squared_error\n",
    "\n",
    "from sklearn.preprocessing import StandardScaler, PolynomialFeatures\n",
    "from sklearn.pipeline import Pipeline\n",
    "\n",
    "import seaborn as sns\n",
    "import matplotlib.pyplot as plt\n"
   ]
  },
  {
   "cell_type": "markdown",
   "metadata": {},
   "source": [
    "## Loading in our cleaned and feature engineered testing data"
   ]
  },
  {
   "cell_type": "code",
   "execution_count": 6,
   "metadata": {},
   "outputs": [
    {
     "data": {
      "text/plain": [
       "'/Users/Asia/Desktop/DSIR/Submissions/projects/project_2-master/Code'"
      ]
     },
     "execution_count": 6,
     "metadata": {},
     "output_type": "execute_result"
    }
   ],
   "source": [
    "pwd"
   ]
  },
  {
   "cell_type": "code",
   "execution_count": 8,
   "metadata": {},
   "outputs": [],
   "source": [
    "df = pd.read_csv('../datasets/ames_train.csv')"
   ]
  },
  {
   "cell_type": "code",
   "execution_count": 9,
   "metadata": {},
   "outputs": [
    {
     "data": {
      "text/html": [
       "<div>\n",
       "<style scoped>\n",
       "    .dataframe tbody tr th:only-of-type {\n",
       "        vertical-align: middle;\n",
       "    }\n",
       "\n",
       "    .dataframe tbody tr th {\n",
       "        vertical-align: top;\n",
       "    }\n",
       "\n",
       "    .dataframe thead th {\n",
       "        text-align: right;\n",
       "    }\n",
       "</style>\n",
       "<table border=\"1\" class=\"dataframe\">\n",
       "  <thead>\n",
       "    <tr style=\"text-align: right;\">\n",
       "      <th></th>\n",
       "      <th>id</th>\n",
       "      <th>pid</th>\n",
       "      <th>ms_subclass</th>\n",
       "      <th>ms_zoning</th>\n",
       "      <th>lot_frontage</th>\n",
       "      <th>lot_area</th>\n",
       "      <th>alley</th>\n",
       "      <th>lot_shape</th>\n",
       "      <th>land_contour</th>\n",
       "      <th>lot_config</th>\n",
       "      <th>...</th>\n",
       "      <th>exter_qual2</th>\n",
       "      <th>exter_cond2</th>\n",
       "      <th>remodel_year</th>\n",
       "      <th>remodel_yn</th>\n",
       "      <th>fireplace_yn</th>\n",
       "      <th>pool_yn</th>\n",
       "      <th>Basement_yn</th>\n",
       "      <th>garage_yn</th>\n",
       "      <th>house_sf_x_overall_qual</th>\n",
       "      <th>overall_qual_x_overall_cond</th>\n",
       "    </tr>\n",
       "  </thead>\n",
       "  <tbody>\n",
       "    <tr>\n",
       "      <th>0</th>\n",
       "      <td>109</td>\n",
       "      <td>533352170</td>\n",
       "      <td>60</td>\n",
       "      <td>RL</td>\n",
       "      <td>72.0</td>\n",
       "      <td>13517</td>\n",
       "      <td>NaN</td>\n",
       "      <td>IR1</td>\n",
       "      <td>Lvl</td>\n",
       "      <td>CulDSac</td>\n",
       "      <td>...</td>\n",
       "      <td>4</td>\n",
       "      <td>3</td>\n",
       "      <td>29</td>\n",
       "      <td>1</td>\n",
       "      <td>0</td>\n",
       "      <td>0</td>\n",
       "      <td>1</td>\n",
       "      <td>1</td>\n",
       "      <td>13224.0</td>\n",
       "      <td>48</td>\n",
       "    </tr>\n",
       "    <tr>\n",
       "      <th>1</th>\n",
       "      <td>544</td>\n",
       "      <td>531379050</td>\n",
       "      <td>60</td>\n",
       "      <td>RL</td>\n",
       "      <td>43.0</td>\n",
       "      <td>11492</td>\n",
       "      <td>NaN</td>\n",
       "      <td>IR1</td>\n",
       "      <td>Lvl</td>\n",
       "      <td>CulDSac</td>\n",
       "      <td>...</td>\n",
       "      <td>4</td>\n",
       "      <td>3</td>\n",
       "      <td>1</td>\n",
       "      <td>1</td>\n",
       "      <td>1</td>\n",
       "      <td>0</td>\n",
       "      <td>1</td>\n",
       "      <td>1</td>\n",
       "      <td>21245.0</td>\n",
       "      <td>35</td>\n",
       "    </tr>\n",
       "    <tr>\n",
       "      <th>2</th>\n",
       "      <td>153</td>\n",
       "      <td>535304180</td>\n",
       "      <td>20</td>\n",
       "      <td>RL</td>\n",
       "      <td>68.0</td>\n",
       "      <td>7922</td>\n",
       "      <td>NaN</td>\n",
       "      <td>Reg</td>\n",
       "      <td>Lvl</td>\n",
       "      <td>Inside</td>\n",
       "      <td>...</td>\n",
       "      <td>3</td>\n",
       "      <td>4</td>\n",
       "      <td>54</td>\n",
       "      <td>1</td>\n",
       "      <td>0</td>\n",
       "      <td>0</td>\n",
       "      <td>1</td>\n",
       "      <td>1</td>\n",
       "      <td>10570.0</td>\n",
       "      <td>35</td>\n",
       "    </tr>\n",
       "    <tr>\n",
       "      <th>3</th>\n",
       "      <td>318</td>\n",
       "      <td>916386060</td>\n",
       "      <td>60</td>\n",
       "      <td>RL</td>\n",
       "      <td>73.0</td>\n",
       "      <td>9802</td>\n",
       "      <td>NaN</td>\n",
       "      <td>Reg</td>\n",
       "      <td>Lvl</td>\n",
       "      <td>Inside</td>\n",
       "      <td>...</td>\n",
       "      <td>3</td>\n",
       "      <td>3</td>\n",
       "      <td>1</td>\n",
       "      <td>1</td>\n",
       "      <td>0</td>\n",
       "      <td>0</td>\n",
       "      <td>1</td>\n",
       "      <td>1</td>\n",
       "      <td>9140.0</td>\n",
       "      <td>25</td>\n",
       "    </tr>\n",
       "    <tr>\n",
       "      <th>4</th>\n",
       "      <td>255</td>\n",
       "      <td>906425045</td>\n",
       "      <td>50</td>\n",
       "      <td>RL</td>\n",
       "      <td>82.0</td>\n",
       "      <td>14235</td>\n",
       "      <td>NaN</td>\n",
       "      <td>IR1</td>\n",
       "      <td>Lvl</td>\n",
       "      <td>Inside</td>\n",
       "      <td>...</td>\n",
       "      <td>3</td>\n",
       "      <td>3</td>\n",
       "      <td>93</td>\n",
       "      <td>1</td>\n",
       "      <td>0</td>\n",
       "      <td>0</td>\n",
       "      <td>1</td>\n",
       "      <td>1</td>\n",
       "      <td>12726.0</td>\n",
       "      <td>48</td>\n",
       "    </tr>\n",
       "  </tbody>\n",
       "</table>\n",
       "<p>5 rows × 112 columns</p>\n",
       "</div>"
      ],
      "text/plain": [
       "    id        pid  ms_subclass ms_zoning  lot_frontage  lot_area alley  \\\n",
       "0  109  533352170           60        RL          72.0     13517   NaN   \n",
       "1  544  531379050           60        RL          43.0     11492   NaN   \n",
       "2  153  535304180           20        RL          68.0      7922   NaN   \n",
       "3  318  916386060           60        RL          73.0      9802   NaN   \n",
       "4  255  906425045           50        RL          82.0     14235   NaN   \n",
       "\n",
       "  lot_shape land_contour lot_config  ... exter_qual2 exter_cond2 remodel_year  \\\n",
       "0       IR1          Lvl    CulDSac  ...           4           3           29   \n",
       "1       IR1          Lvl    CulDSac  ...           4           3            1   \n",
       "2       Reg          Lvl     Inside  ...           3           4           54   \n",
       "3       Reg          Lvl     Inside  ...           3           3            1   \n",
       "4       IR1          Lvl     Inside  ...           3           3           93   \n",
       "\n",
       "  remodel_yn  fireplace_yn  pool_yn  Basement_yn  garage_yn  \\\n",
       "0          1             0        0            1          1   \n",
       "1          1             1        0            1          1   \n",
       "2          1             0        0            1          1   \n",
       "3          1             0        0            1          1   \n",
       "4          1             0        0            1          1   \n",
       "\n",
       "  house_sf_x_overall_qual overall_qual_x_overall_cond  \n",
       "0                 13224.0                          48  \n",
       "1                 21245.0                          35  \n",
       "2                 10570.0                          35  \n",
       "3                  9140.0                          25  \n",
       "4                 12726.0                          48  \n",
       "\n",
       "[5 rows x 112 columns]"
      ]
     },
     "execution_count": 9,
     "metadata": {},
     "output_type": "execute_result"
    }
   ],
   "source": [
    "df.head()"
   ]
  },
  {
   "cell_type": "markdown",
   "metadata": {},
   "source": [
    "# Viewing our target variable, Sale price."
   ]
  },
  {
   "cell_type": "code",
   "execution_count": 10,
   "metadata": {},
   "outputs": [
    {
     "data": {
      "image/png": "[encoded data removed]",
      "text/plain": [
       "<Figure size 360x360 with 1 Axes>"
      ]
     },
     "metadata": {
      "needs_background": "light"
     },
     "output_type": "display_data"
    }
   ],
   "source": [
    "# Lets view how our target variable is distributed\n",
    "\n",
    "sns.displot(df['saleprice']);"
   ]
  },
  {
   "cell_type": "markdown",
   "metadata": {},
   "source": [
    "Our target variable is right skewed and asymmetrical so we will have to log transform for modeling purposes in order to use a linear regression model. "
   ]
  },
  {
   "cell_type": "markdown",
   "metadata": {},
   "source": [
    "## Normalizing sale price shape/distribution"
   ]
  },
  {
   "cell_type": "code",
   "execution_count": 11,
   "metadata": {},
   "outputs": [
    {
     "data": {
      "image/png": "[encoded data removed]",
      "text/plain": [
       "<Figure size 360x360 with 1 Axes>"
      ]
     },
     "metadata": {
      "needs_background": "light"
     },
     "output_type": "display_data"
    }
   ],
   "source": [
    "df['saleprice_log'] = np.log(df['saleprice'])\n",
    "\n",
    "sns.displot(df['saleprice_log']);"
   ]
  },
  {
   "cell_type": "markdown",
   "metadata": {},
   "source": [
    "## Feature Selection"
   ]
  },
  {
   "cell_type": "code",
   "execution_count": 12,
   "metadata": {},
   "outputs": [
    {
     "data": {
      "text/plain": [
       "saleprice                  1.000000\n",
       "saleprice_log              0.947066\n",
       "house_sf_x_overall_qual    0.919239\n",
       "total_sq_ft                0.825660\n",
       "overall_qual               0.805112\n",
       "                             ...   \n",
       "neighborhood_NAmes        -0.189183\n",
       "neighborhood_IDOTRR       -0.191092\n",
       "neighborhood_OldTown      -0.209995\n",
       "remodel_year              -0.240602\n",
       "pid                       -0.253221\n",
       "Name: saleprice, Length: 78, dtype: float64"
      ]
     },
     "execution_count": 12,
     "metadata": {},
     "output_type": "execute_result"
    }
   ],
   "source": [
    "corr_matrix=df.corr()\n",
    "corr_matrix.saleprice.sort_values(ascending=False)"
   ]
  },
  {
   "cell_type": "code",
   "execution_count": 13,
   "metadata": {},
   "outputs": [],
   "source": [
    "numeric_train = df.select_dtypes(include=['integer', 'float'])"
   ]
  },
  {
   "cell_type": "code",
   "execution_count": 14,
   "metadata": {},
   "outputs": [
    {
     "data": {
      "text/html": [
       "<div>\n",
       "<style scoped>\n",
       "    .dataframe tbody tr th:only-of-type {\n",
       "        vertical-align: middle;\n",
       "    }\n",
       "\n",
       "    .dataframe tbody tr th {\n",
       "        vertical-align: top;\n",
       "    }\n",
       "\n",
       "    .dataframe thead th {\n",
       "        text-align: right;\n",
       "    }\n",
       "</style>\n",
       "<table border=\"1\" class=\"dataframe\">\n",
       "  <thead>\n",
       "    <tr style=\"text-align: right;\">\n",
       "      <th></th>\n",
       "      <th>id</th>\n",
       "      <th>pid</th>\n",
       "      <th>ms_subclass</th>\n",
       "      <th>lot_frontage</th>\n",
       "      <th>lot_area</th>\n",
       "      <th>overall_qual</th>\n",
       "      <th>overall_cond</th>\n",
       "      <th>year_built</th>\n",
       "      <th>year_remod/add</th>\n",
       "      <th>mas_vnr_area</th>\n",
       "      <th>...</th>\n",
       "      <th>exter_cond2</th>\n",
       "      <th>remodel_year</th>\n",
       "      <th>remodel_yn</th>\n",
       "      <th>fireplace_yn</th>\n",
       "      <th>pool_yn</th>\n",
       "      <th>Basement_yn</th>\n",
       "      <th>garage_yn</th>\n",
       "      <th>house_sf_x_overall_qual</th>\n",
       "      <th>overall_qual_x_overall_cond</th>\n",
       "      <th>saleprice_log</th>\n",
       "    </tr>\n",
       "  </thead>\n",
       "  <tbody>\n",
       "    <tr>\n",
       "      <th>0</th>\n",
       "      <td>109</td>\n",
       "      <td>533352170</td>\n",
       "      <td>60</td>\n",
       "      <td>72.0</td>\n",
       "      <td>13517</td>\n",
       "      <td>6</td>\n",
       "      <td>8</td>\n",
       "      <td>1976</td>\n",
       "      <td>2005</td>\n",
       "      <td>289.0</td>\n",
       "      <td>...</td>\n",
       "      <td>3</td>\n",
       "      <td>29</td>\n",
       "      <td>1</td>\n",
       "      <td>0</td>\n",
       "      <td>0</td>\n",
       "      <td>1</td>\n",
       "      <td>1</td>\n",
       "      <td>13224.0</td>\n",
       "      <td>48</td>\n",
       "      <td>11.779129</td>\n",
       "    </tr>\n",
       "    <tr>\n",
       "      <th>1</th>\n",
       "      <td>544</td>\n",
       "      <td>531379050</td>\n",
       "      <td>60</td>\n",
       "      <td>43.0</td>\n",
       "      <td>11492</td>\n",
       "      <td>7</td>\n",
       "      <td>5</td>\n",
       "      <td>1996</td>\n",
       "      <td>1997</td>\n",
       "      <td>132.0</td>\n",
       "      <td>...</td>\n",
       "      <td>3</td>\n",
       "      <td>1</td>\n",
       "      <td>1</td>\n",
       "      <td>1</td>\n",
       "      <td>0</td>\n",
       "      <td>1</td>\n",
       "      <td>1</td>\n",
       "      <td>21245.0</td>\n",
       "      <td>35</td>\n",
       "      <td>12.301383</td>\n",
       "    </tr>\n",
       "    <tr>\n",
       "      <th>2</th>\n",
       "      <td>153</td>\n",
       "      <td>535304180</td>\n",
       "      <td>20</td>\n",
       "      <td>68.0</td>\n",
       "      <td>7922</td>\n",
       "      <td>5</td>\n",
       "      <td>7</td>\n",
       "      <td>1953</td>\n",
       "      <td>2007</td>\n",
       "      <td>0.0</td>\n",
       "      <td>...</td>\n",
       "      <td>4</td>\n",
       "      <td>54</td>\n",
       "      <td>1</td>\n",
       "      <td>0</td>\n",
       "      <td>0</td>\n",
       "      <td>1</td>\n",
       "      <td>1</td>\n",
       "      <td>10570.0</td>\n",
       "      <td>35</td>\n",
       "      <td>11.599103</td>\n",
       "    </tr>\n",
       "    <tr>\n",
       "      <th>3</th>\n",
       "      <td>318</td>\n",
       "      <td>916386060</td>\n",
       "      <td>60</td>\n",
       "      <td>73.0</td>\n",
       "      <td>9802</td>\n",
       "      <td>5</td>\n",
       "      <td>5</td>\n",
       "      <td>2006</td>\n",
       "      <td>2007</td>\n",
       "      <td>0.0</td>\n",
       "      <td>...</td>\n",
       "      <td>3</td>\n",
       "      <td>1</td>\n",
       "      <td>1</td>\n",
       "      <td>0</td>\n",
       "      <td>0</td>\n",
       "      <td>1</td>\n",
       "      <td>1</td>\n",
       "      <td>9140.0</td>\n",
       "      <td>25</td>\n",
       "      <td>12.066811</td>\n",
       "    </tr>\n",
       "    <tr>\n",
       "      <th>4</th>\n",
       "      <td>255</td>\n",
       "      <td>906425045</td>\n",
       "      <td>50</td>\n",
       "      <td>82.0</td>\n",
       "      <td>14235</td>\n",
       "      <td>6</td>\n",
       "      <td>8</td>\n",
       "      <td>1900</td>\n",
       "      <td>1993</td>\n",
       "      <td>0.0</td>\n",
       "      <td>...</td>\n",
       "      <td>3</td>\n",
       "      <td>93</td>\n",
       "      <td>1</td>\n",
       "      <td>0</td>\n",
       "      <td>0</td>\n",
       "      <td>1</td>\n",
       "      <td>1</td>\n",
       "      <td>12726.0</td>\n",
       "      <td>48</td>\n",
       "      <td>11.838626</td>\n",
       "    </tr>\n",
       "    <tr>\n",
       "      <th>...</th>\n",
       "      <td>...</td>\n",
       "      <td>...</td>\n",
       "      <td>...</td>\n",
       "      <td>...</td>\n",
       "      <td>...</td>\n",
       "      <td>...</td>\n",
       "      <td>...</td>\n",
       "      <td>...</td>\n",
       "      <td>...</td>\n",
       "      <td>...</td>\n",
       "      <td>...</td>\n",
       "      <td>...</td>\n",
       "      <td>...</td>\n",
       "      <td>...</td>\n",
       "      <td>...</td>\n",
       "      <td>...</td>\n",
       "      <td>...</td>\n",
       "      <td>...</td>\n",
       "      <td>...</td>\n",
       "      <td>...</td>\n",
       "      <td>...</td>\n",
       "    </tr>\n",
       "    <tr>\n",
       "      <th>2029</th>\n",
       "      <td>1587</td>\n",
       "      <td>921126030</td>\n",
       "      <td>20</td>\n",
       "      <td>79.0</td>\n",
       "      <td>11449</td>\n",
       "      <td>8</td>\n",
       "      <td>5</td>\n",
       "      <td>2007</td>\n",
       "      <td>2007</td>\n",
       "      <td>0.0</td>\n",
       "      <td>...</td>\n",
       "      <td>3</td>\n",
       "      <td>0</td>\n",
       "      <td>0</td>\n",
       "      <td>1</td>\n",
       "      <td>0</td>\n",
       "      <td>1</td>\n",
       "      <td>1</td>\n",
       "      <td>28896.0</td>\n",
       "      <td>40</td>\n",
       "      <td>12.607366</td>\n",
       "    </tr>\n",
       "    <tr>\n",
       "      <th>2030</th>\n",
       "      <td>785</td>\n",
       "      <td>905377130</td>\n",
       "      <td>30</td>\n",
       "      <td>65.0</td>\n",
       "      <td>12342</td>\n",
       "      <td>4</td>\n",
       "      <td>5</td>\n",
       "      <td>1940</td>\n",
       "      <td>1950</td>\n",
       "      <td>0.0</td>\n",
       "      <td>...</td>\n",
       "      <td>3</td>\n",
       "      <td>10</td>\n",
       "      <td>1</td>\n",
       "      <td>0</td>\n",
       "      <td>0</td>\n",
       "      <td>1</td>\n",
       "      <td>1</td>\n",
       "      <td>6888.0</td>\n",
       "      <td>20</td>\n",
       "      <td>11.320554</td>\n",
       "    </tr>\n",
       "    <tr>\n",
       "      <th>2031</th>\n",
       "      <td>916</td>\n",
       "      <td>909253010</td>\n",
       "      <td>50</td>\n",
       "      <td>57.0</td>\n",
       "      <td>7558</td>\n",
       "      <td>6</td>\n",
       "      <td>6</td>\n",
       "      <td>1928</td>\n",
       "      <td>1950</td>\n",
       "      <td>0.0</td>\n",
       "      <td>...</td>\n",
       "      <td>3</td>\n",
       "      <td>22</td>\n",
       "      <td>1</td>\n",
       "      <td>1</td>\n",
       "      <td>0</td>\n",
       "      <td>1</td>\n",
       "      <td>1</td>\n",
       "      <td>16854.0</td>\n",
       "      <td>36</td>\n",
       "      <td>12.083905</td>\n",
       "    </tr>\n",
       "    <tr>\n",
       "      <th>2032</th>\n",
       "      <td>639</td>\n",
       "      <td>535179160</td>\n",
       "      <td>20</td>\n",
       "      <td>80.0</td>\n",
       "      <td>10400</td>\n",
       "      <td>4</td>\n",
       "      <td>5</td>\n",
       "      <td>1956</td>\n",
       "      <td>1956</td>\n",
       "      <td>0.0</td>\n",
       "      <td>...</td>\n",
       "      <td>3</td>\n",
       "      <td>0</td>\n",
       "      <td>0</td>\n",
       "      <td>1</td>\n",
       "      <td>0</td>\n",
       "      <td>1</td>\n",
       "      <td>1</td>\n",
       "      <td>9600.0</td>\n",
       "      <td>20</td>\n",
       "      <td>11.877569</td>\n",
       "    </tr>\n",
       "    <tr>\n",
       "      <th>2033</th>\n",
       "      <td>10</td>\n",
       "      <td>527162130</td>\n",
       "      <td>60</td>\n",
       "      <td>60.0</td>\n",
       "      <td>7500</td>\n",
       "      <td>7</td>\n",
       "      <td>5</td>\n",
       "      <td>1999</td>\n",
       "      <td>1999</td>\n",
       "      <td>0.0</td>\n",
       "      <td>...</td>\n",
       "      <td>3</td>\n",
       "      <td>0</td>\n",
       "      <td>0</td>\n",
       "      <td>1</td>\n",
       "      <td>0</td>\n",
       "      <td>1</td>\n",
       "      <td>1</td>\n",
       "      <td>19586.0</td>\n",
       "      <td>35</td>\n",
       "      <td>12.149502</td>\n",
       "    </tr>\n",
       "  </tbody>\n",
       "</table>\n",
       "<p>2034 rows × 78 columns</p>\n",
       "</div>"
      ],
      "text/plain": [
       "        id        pid  ms_subclass  lot_frontage  lot_area  overall_qual  \\\n",
       "0      109  533352170           60          72.0     13517             6   \n",
       "1      544  531379050           60          43.0     11492             7   \n",
       "2      153  535304180           20          68.0      7922             5   \n",
       "3      318  916386060           60          73.0      9802             5   \n",
       "4      255  906425045           50          82.0     14235             6   \n",
       "...    ...        ...          ...           ...       ...           ...   \n",
       "2029  1587  921126030           20          79.0     11449             8   \n",
       "2030   785  905377130           30          65.0     12342             4   \n",
       "2031   916  909253010           50          57.0      7558             6   \n",
       "2032   639  535179160           20          80.0     10400             4   \n",
       "2033    10  527162130           60          60.0      7500             7   \n",
       "\n",
       "      overall_cond  year_built  year_remod/add  mas_vnr_area  ...  \\\n",
       "0                8        1976            2005         289.0  ...   \n",
       "1                5        1996            1997         132.0  ...   \n",
       "2                7        1953            2007           0.0  ...   \n",
       "3                5        2006            2007           0.0  ...   \n",
       "4                8        1900            1993           0.0  ...   \n",
       "...            ...         ...             ...           ...  ...   \n",
       "2029             5        2007            2007           0.0  ...   \n",
       "2030             5        1940            1950           0.0  ...   \n",
       "2031             6        1928            1950           0.0  ...   \n",
       "2032             5        1956            1956           0.0  ...   \n",
       "2033             5        1999            1999           0.0  ...   \n",
       "\n",
       "      exter_cond2  remodel_year  remodel_yn  fireplace_yn  pool_yn  \\\n",
       "0               3            29           1             0        0   \n",
       "1               3             1           1             1        0   \n",
       "2               4            54           1             0        0   \n",
       "3               3             1           1             0        0   \n",
       "4               3            93           1             0        0   \n",
       "...           ...           ...         ...           ...      ...   \n",
       "2029            3             0           0             1        0   \n",
       "2030            3            10           1             0        0   \n",
       "2031            3            22           1             1        0   \n",
       "2032            3             0           0             1        0   \n",
       "2033            3             0           0             1        0   \n",
       "\n",
       "      Basement_yn  garage_yn  house_sf_x_overall_qual  \\\n",
       "0               1          1                  13224.0   \n",
       "1               1          1                  21245.0   \n",
       "2               1          1                  10570.0   \n",
       "3               1          1                   9140.0   \n",
       "4               1          1                  12726.0   \n",
       "...           ...        ...                      ...   \n",
       "2029            1          1                  28896.0   \n",
       "2030            1          1                   6888.0   \n",
       "2031            1          1                  16854.0   \n",
       "2032            1          1                   9600.0   \n",
       "2033            1          1                  19586.0   \n",
       "\n",
       "      overall_qual_x_overall_cond  saleprice_log  \n",
       "0                              48      11.779129  \n",
       "1                              35      12.301383  \n",
       "2                              35      11.599103  \n",
       "3                              25      12.066811  \n",
       "4                              48      11.838626  \n",
       "...                           ...            ...  \n",
       "2029                           40      12.607366  \n",
       "2030                           20      11.320554  \n",
       "2031                           36      12.083905  \n",
       "2032                           20      11.877569  \n",
       "2033                           35      12.149502  \n",
       "\n",
       "[2034 rows x 78 columns]"
      ]
     },
     "execution_count": 14,
     "metadata": {},
     "output_type": "execute_result"
    }
   ],
   "source": [
    "numeric_train"
   ]
  },
  {
   "cell_type": "code",
   "execution_count": 15,
   "metadata": {},
   "outputs": [],
   "source": [
    "close_coeffs = numeric_train.corr()['saleprice_log'].sort_values(ascending=False)"
   ]
  },
  {
   "cell_type": "code",
   "execution_count": 16,
   "metadata": {},
   "outputs": [],
   "source": [
    "feat = close_coeffs[close_coeffs > .5]"
   ]
  },
  {
   "cell_type": "code",
   "execution_count": 17,
   "metadata": {},
   "outputs": [
    {
     "data": {
      "text/plain": [
       "saleprice_log                  1.000000\n",
       "saleprice                      0.947066\n",
       "house_sf_x_overall_qual        0.878101\n",
       "overall_qual                   0.825143\n",
       "total_sq_ft                    0.812438\n",
       "bsmt_sf_x_qual_2               0.753704\n",
       "gr_liv_area                    0.705422\n",
       "exter_qual2                    0.693305\n",
       "total_baths                    0.672910\n",
       "garage_cars                    0.668771\n",
       "bsmt_sf_x_cond2                0.667908\n",
       "total_bsmt_sf                  0.655022\n",
       "bsmt_sf                        0.655022\n",
       "garage_area                    0.654541\n",
       "additional_area                0.648521\n",
       "bsmt_qual_2                    0.640467\n",
       "year_built                     0.624938\n",
       "1st_flr_sf                     0.624490\n",
       "overall_qual_x_overall_cond    0.615802\n",
       "year_remod/add                 0.600272\n",
       "full_bath                      0.562086\n",
       "fireplace_yn                   0.505165\n",
       "Name: saleprice_log, dtype: float64"
      ]
     },
     "execution_count": 17,
     "metadata": {},
     "output_type": "execute_result"
    }
   ],
   "source": [
    "feat"
   ]
  },
  {
   "cell_type": "code",
   "execution_count": 18,
   "metadata": {},
   "outputs": [],
   "source": [
    "features = feat.drop(columns=['saleprice_log', 'saleprice'])"
   ]
  },
  {
   "cell_type": "code",
   "execution_count": 19,
   "metadata": {},
   "outputs": [
    {
     "data": {
      "text/plain": [
       "saleprice_log                  1.000000\n",
       "saleprice                      0.947066\n",
       "house_sf_x_overall_qual        0.878101\n",
       "overall_qual                   0.825143\n",
       "total_sq_ft                    0.812438\n",
       "bsmt_sf_x_qual_2               0.753704\n",
       "gr_liv_area                    0.705422\n",
       "exter_qual2                    0.693305\n",
       "total_baths                    0.672910\n",
       "garage_cars                    0.668771\n",
       "bsmt_sf_x_cond2                0.667908\n",
       "total_bsmt_sf                  0.655022\n",
       "bsmt_sf                        0.655022\n",
       "garage_area                    0.654541\n",
       "additional_area                0.648521\n",
       "bsmt_qual_2                    0.640467\n",
       "year_built                     0.624938\n",
       "1st_flr_sf                     0.624490\n",
       "overall_qual_x_overall_cond    0.615802\n",
       "year_remod/add                 0.600272\n",
       "full_bath                      0.562086\n",
       "fireplace_yn                   0.505165\n",
       "Name: saleprice_log, dtype: float64"
      ]
     },
     "execution_count": 19,
     "metadata": {},
     "output_type": "execute_result"
    }
   ],
   "source": [
    "features"
   ]
  },
  {
   "cell_type": "code",
   "execution_count": 20,
   "metadata": {},
   "outputs": [],
   "source": [
    "corr_coeffs = numeric_train.corr()['saleprice_log'].sort_values(ascending=False)"
   ]
  },
  {
   "cell_type": "code",
   "execution_count": 21,
   "metadata": {},
   "outputs": [],
   "source": [
    "feats = ['house_sf_x_overall_qual', 'overall_qual', 'total_sq_ft', 'bsmt_sf_x_qual_2', 'gr_liv_area', 'exter_qual2', 'total_baths', 'garage_cars', 'bsmt_sf_x_cond2', 'total_bsmt_sf', 'additional_area', 'bsmt_qual_2', 'year_built', 'overall_qual_x_overall_cond', 'year_remod/add', 'full_bath', 'fireplace_yn']"
   ]
  },
  {
   "cell_type": "code",
   "execution_count": 22,
   "metadata": {},
   "outputs": [],
   "source": [
    "extra_feats = ['totrms_abvgrd',\n",
    "'fireplaces' ,'mas_vnr_area',\n",
    "'bsmtfin_sf_1',\n",
    "'neighborhood_NridgHt', 'house_sf_x_overall_qual', 'overall_qual', 'total_sq_ft', 'bsmt_sf_x_qual_2', 'gr_liv_area', 'exter_qual2', 'total_baths', 'garage_cars', 'bsmt_sf_x_cond2', 'total_bsmt_sf', 'additional_area', 'bsmt_qual_2', 'year_built', 'overall_qual_x_overall_cond', 'year_remod/add', 'full_bath', 'fireplace_yn']"
   ]
  },
  {
   "cell_type": "markdown",
   "metadata": {},
   "source": [
    "## Creating our X and Y variables"
   ]
  },
  {
   "cell_type": "code",
   "execution_count": 23,
   "metadata": {},
   "outputs": [],
   "source": [
    "X = df[feats]\n",
    "y = df['saleprice_log']"
   ]
  },
  {
   "cell_type": "code",
   "execution_count": 61,
   "metadata": {},
   "outputs": [],
   "source": []
  },
  {
   "cell_type": "markdown",
   "metadata": {},
   "source": [
    "## Train/Test Split & Scaling"
   ]
  },
  {
   "cell_type": "code",
   "execution_count": 24,
   "metadata": {},
   "outputs": [
    {
     "data": {
      "text/plain": [
       "(2034, 17)"
      ]
     },
     "execution_count": 24,
     "metadata": {},
     "output_type": "execute_result"
    }
   ],
   "source": [
    "X.shape"
   ]
  },
  {
   "cell_type": "code",
   "execution_count": 25,
   "metadata": {},
   "outputs": [
    {
     "data": {
      "text/plain": [
       "(2034,)"
      ]
     },
     "execution_count": 25,
     "metadata": {},
     "output_type": "execute_result"
    }
   ],
   "source": [
    "y.shape"
   ]
  },
  {
   "cell_type": "code",
   "execution_count": 26,
   "metadata": {},
   "outputs": [],
   "source": [
    "# Splitting our data into training and testing\n",
    "X_train, X_test, y_train, y_test = train_test_split(X, y, random_state = 42)\n",
    "\n"
   ]
  },
  {
   "cell_type": "code",
   "execution_count": 27,
   "metadata": {},
   "outputs": [],
   "source": [
    "# Applying standard scaler and fit/transforming our X variable\n",
    "ss=StandardScaler()\n",
    "X_train_sc = ss.fit_transform(X_train)\n",
    "X_test_sc = ss.transform(X_test)"
   ]
  },
  {
   "cell_type": "code",
   "execution_count": 28,
   "metadata": {},
   "outputs": [],
   "source": [
    "# Intiating our regression models\n",
    "lr = LinearRegression()\n",
    "ames_lr = LinearRegression()  \n",
    "ames_ss = StandardScaler()\n",
    "ames_ridge = Ridge()\n",
    "ames_lasso = Lasso()"
   ]
  },
  {
   "cell_type": "markdown",
   "metadata": {},
   "source": [
    "## Selecting and fitting our model"
   ]
  },
  {
   "cell_type": "code",
   "execution_count": 29,
   "metadata": {},
   "outputs": [
    {
     "data": {
      "text/plain": [
       "LinearRegression()"
      ]
     },
     "execution_count": 29,
     "metadata": {},
     "output_type": "execute_result"
    }
   ],
   "source": [
    "lr.fit(X_train_sc, y_train)"
   ]
  },
  {
   "cell_type": "markdown",
   "metadata": {},
   "source": [
    "## Linear Regression Model"
   ]
  },
  {
   "cell_type": "code",
   "execution_count": 30,
   "metadata": {},
   "outputs": [
    {
     "name": "stdout",
     "output_type": "stream",
     "text": [
      "Training data R2: 0.8765\n",
      "Testing data R2: 0.8982\n"
     ]
    }
   ],
   "source": [
    "# Evaluating our scores from our Linear Regression model\n",
    "print(f'Training data R2: {lr.score(X_train_sc, y_train).round(4)}')\n",
    "print(f'Testing data R2: {lr.score(X_test_sc, y_test).round(4)}')"
   ]
  },
  {
   "cell_type": "code",
   "execution_count": 36,
   "metadata": {},
   "outputs": [
    {
     "data": {
      "text/plain": [
       "array([0.87927955, 1.07625873, 1.07166585, 1.1252778 , 1.14243484,\n",
       "       1.02251193, 1.04852189, 1.01103034, 1.02939808, 0.97425969,\n",
       "       1.03098806, 0.98518785, 1.07596073, 1.09260615, 1.0198686 ,\n",
       "       0.96161823, 1.03516164])"
      ]
     },
     "execution_count": 36,
     "metadata": {},
     "output_type": "execute_result"
    }
   ],
   "source": [
    "# Checking our coeficcients\n",
    "# we need to use expon\n",
    "c =np.exp(lr.coef_)\n",
    "c"
   ]
  },
  {
   "cell_type": "code",
   "execution_count": 44,
   "metadata": {},
   "outputs": [
    {
     "data": {
      "text/plain": [
       "0.8781245778769922"
      ]
     },
     "execution_count": 44,
     "metadata": {},
     "output_type": "execute_result"
    }
   ],
   "source": [
    "# Checking the cross val score\n",
    "cross_val_score(lr, X_train, y_train, cv=5).mean()"
   ]
  },
  {
   "cell_type": "markdown",
   "metadata": {},
   "source": [
    "## Lasso Model"
   ]
  },
  {
   "cell_type": "code",
   "execution_count": 45,
   "metadata": {},
   "outputs": [
    {
     "name": "stdout",
     "output_type": "stream",
     "text": [
      "The best alpha is 0.0011497569953977356\n",
      "The score with this model is 0.8747250695702958\n",
      "The test score is 0.8966186573453425\n"
     ]
    }
   ],
   "source": [
    "# Using Lasso to fit our model\n",
    "lasso_model = LassoCV(alphas = np.logspace(-3, 0, 100), cv = 10)\n",
    "lasso_model = lasso_model.fit(X_train_sc, y_train)\n",
    "print(f'The best alpha is {lasso_model.alpha_}')\n",
    "print(f'The score with this model is {lasso_model.score(X_train_sc, y_train)}')\n",
    "print(f'The test score is {lasso_model.score(X_test_sc, y_test)}')"
   ]
  },
  {
   "cell_type": "markdown",
   "metadata": {},
   "source": [
    "## Ridge Model"
   ]
  },
  {
   "cell_type": "code",
   "execution_count": 46,
   "metadata": {},
   "outputs": [
    {
     "name": "stdout",
     "output_type": "stream",
     "text": [
      "The best alpha is 5.878016072274912\n",
      "The score with this model is 0.876242187386561\n"
     ]
    }
   ],
   "source": [
    "# Using Ridge to fit our training data\n",
    "ridge_model = RidgeCV(alphas = np.logspace(0,5,300), cv = 5)\n",
    "ridge_model = ridge_model.fit(X_train_sc, y_train)\n",
    "print(f'The best alpha is {ridge_model.alpha_}')\n",
    "print(f'The score with this model is {ridge_model.score(X_train_sc, y_train)}')"
   ]
  },
  {
   "cell_type": "code",
   "execution_count": null,
   "metadata": {},
   "outputs": [],
   "source": []
  },
  {
   "cell_type": "markdown",
   "metadata": {},
   "source": [
    "## Using DIFFERENT FEATURES "
   ]
  },
  {
   "cell_type": "code",
   "execution_count": 47,
   "metadata": {},
   "outputs": [],
   "source": [
    "X_2 = df[extra_feats]\n",
    "y_2 = df['saleprice_log']"
   ]
  },
  {
   "cell_type": "code",
   "execution_count": 48,
   "metadata": {},
   "outputs": [],
   "source": [
    "X_train, X_test, y_train, y_test = train_test_split(X_2, y_2, random_state = 42 )"
   ]
  },
  {
   "cell_type": "code",
   "execution_count": 49,
   "metadata": {},
   "outputs": [],
   "source": [
    "# Applying standard scaler and fit/transforming our X variable\n",
    "ss=StandardScaler()\n",
    "X_train_sc_2 = ss.fit_transform(X_train)\n",
    "X_test_sc = ss.transform(X_test)"
   ]
  },
  {
   "cell_type": "code",
   "execution_count": 50,
   "metadata": {},
   "outputs": [],
   "source": [
    "X_train_2 = ames_ss.fit_transform(X_train)"
   ]
  },
  {
   "cell_type": "code",
   "execution_count": 51,
   "metadata": {},
   "outputs": [],
   "source": [
    "X_test_2 = ames_ss.transform(X_test)"
   ]
  },
  {
   "cell_type": "code",
   "execution_count": 52,
   "metadata": {},
   "outputs": [
    {
     "data": {
      "text/plain": [
       "LinearRegression()"
      ]
     },
     "execution_count": 52,
     "metadata": {},
     "output_type": "execute_result"
    }
   ],
   "source": [
    "ames_lr.fit(X_train_2, y_train)"
   ]
  },
  {
   "cell_type": "code",
   "execution_count": 53,
   "metadata": {},
   "outputs": [
    {
     "name": "stdout",
     "output_type": "stream",
     "text": [
      "Training data R2: 0.882\n",
      "Testing data R2: 0.902\n"
     ]
    }
   ],
   "source": [
    "print(f'Training data R2: {ames_lr.score(X_train_2, y_train).round(3)}')\n",
    "print(f'Testing data R2: {ames_lr.score(X_test_2, y_test).round(3)}')"
   ]
  },
  {
   "cell_type": "code",
   "execution_count": 55,
   "metadata": {},
   "outputs": [
    {
     "data": {
      "text/plain": [
       "array([1.00556948, 1.02411631, 0.99831542, 1.04327927, 1.00544919,\n",
       "       0.87746354, 1.08776253, 1.07307796, 1.08830446, 1.14322035,\n",
       "       1.02594657, 1.0138731 , 1.0164209 , 1.03182809, 0.97577962,\n",
       "       1.02336765, 0.99201479, 1.07727328, 1.08608084, 1.0245489 ,\n",
       "       0.9824991 , 1.01029397])"
      ]
     },
     "execution_count": 55,
     "metadata": {},
     "output_type": "execute_result"
    }
   ],
   "source": [
    "# Checking the coefficients\n",
    "ames_c =np.exp(ames_lr.coef_)\n",
    "ames_c\n"
   ]
  },
  {
   "cell_type": "code",
   "execution_count": 76,
   "metadata": {},
   "outputs": [
    {
     "name": "stdout",
     "output_type": "stream",
     "text": [
      "The best alpha is 0.0012328467394420659\n",
      "The score with this model is 0.8801075916950067\n",
      "The test score is 0.8999796800503964\n"
     ]
    }
   ],
   "source": [
    "# Using Lasso to fit our model\n",
    "lasso_model = LassoCV(alphas = np.logspace(-3, 0, 100), cv = 10)\n",
    "lasso_model = lasso_model.fit(X_train_2, y_train)\n",
    "print(f'The best alpha is {lasso_model.alpha_}')\n",
    "print(f'The score with this model is {lasso_model.score(X_train_2, y_train)}')\n",
    "print(f'The test score is {lasso_model.score(X_test_2, y_test)}')"
   ]
  },
  {
   "cell_type": "code",
   "execution_count": 77,
   "metadata": {},
   "outputs": [
    {
     "name": "stdout",
     "output_type": "stream",
     "text": [
      "The best alpha is 7.696399902471157\n",
      "The score with this model is 0.8816035679154726\n"
     ]
    }
   ],
   "source": [
    "# Using Ridge to fit our training data\n",
    "ridge_model = RidgeCV(alphas = np.logspace(0,5,300), cv = 5)\n",
    "ridge_model = ridge_model.fit(X_train_2, y_train)\n",
    "print(f'The best alpha is {ridge_model.alpha_}')\n",
    "print(f'The score with this model is {ridge_model.score(X_train_2, y_train)}')"
   ]
  },
  {
   "cell_type": "code",
   "execution_count": 114,
   "metadata": {},
   "outputs": [],
   "source": []
  },
  {
   "cell_type": "code",
   "execution_count": null,
   "metadata": {},
   "outputs": [],
   "source": []
  },
  {
   "cell_type": "code",
   "execution_count": null,
   "metadata": {},
   "outputs": [],
   "source": []
  },
  {
   "cell_type": "markdown",
   "metadata": {},
   "source": [
    "# Let's create some plots for our presentation "
   ]
  },
  {
   "cell_type": "code",
   "execution_count": 148,
   "metadata": {},
   "outputs": [
    {
     "data": {
      "image/png": "[encoded data removed]",
      "text/plain": [
       "<Figure size 432x288 with 1 Axes>"
      ]
     },
     "metadata": {
      "needs_background": "light"
     },
     "output_type": "display_data"
    }
   ],
   "source": [
    "sns.regplot(x='overall_qual', y='saleprice', data=df, ci=None, color='#AB3C33')\n",
    "plt.xlabel('Overall House Quality')\n",
    "plt.xticks([.75, 1, 2, 3, 4, 5, 6, 7, 8, 9, 10, 10.5], ['', 'Very Poor', 'Poor', 'Fair', '< Average', 'Average', '> Average', 'Good', 'Very Good', 'Excellent', 'Very Excellent', ''], rotation=40)\n",
    "plt.ylabel('Sale Price')\n",
    "plt.show();\n"
   ]
  },
  {
   "cell_type": "code",
   "execution_count": 188,
   "metadata": {},
   "outputs": [
    {
     "data": {
      "image/png": "[encoded data removed]",
      "text/plain": [
       "<Figure size 432x288 with 1 Axes>"
      ]
     },
     "metadata": {
      "needs_background": "light"
     },
     "output_type": "display_data"
    }
   ],
   "source": [
    "sns.regplot(x='total_sq_ft', y='saleprice', data=df, ci=None, color='#AB6333')\n",
    "plt.xlabel('House Square Footage (excl. Additonal Area)')\n",
    "plt.ylabel('Sale Price')\n",
    "plt.show();"
   ]
  },
  {
   "cell_type": "code",
   "execution_count": 186,
   "metadata": {},
   "outputs": [
    {
     "data": {
      "image/png": "[encoded data removed]",
      "text/plain": [
       "<Figure size 432x288 with 1 Axes>"
      ]
     },
     "metadata": {
      "needs_background": "light"
     },
     "output_type": "display_data"
    }
   ],
   "source": [
    "sns.regplot(x='total_baths', y='saleprice', data=df, ci=None, color='#F747')\n",
    "plt.xlabel('Total Number of Baths')\n",
    "plt.xticks([.75, 1, 1.5, 2, 2.5, 3, 3.5, 4, 4.5, 5], ['', '1', '1.5', '2', '2.5', '3', '3.5', '4', '4.5', '5'])\n",
    "plt.ylabel('Sale Price')\n",
    "plt.show();"
   ]
  },
  {
   "cell_type": "code",
   "execution_count": 158,
   "metadata": {},
   "outputs": [
    {
     "data": {
      "image/png": "[encoded data removed]",
      "text/plain": [
       "<Figure size 432x288 with 1 Axes>"
      ]
     },
     "metadata": {
      "needs_background": "light"
     },
     "output_type": "display_data"
    }
   ],
   "source": [
    "\n",
    "sns.regplot(x='bsmt_cond_2', y='saleprice', data=df, ci=None, color='#3F7787')\n",
    "plt.xlabel('Basement Condition')\n",
    "plt.xticks([-.25, 0, 1, 2, 3, 4, 5, 5.25], ['', 'None', 'Poor', 'Fair', 'Typical', 'Good', 'Excellent', ' '])\n",
    "plt.ylabel('Sale Price')\n",
    "plt.show();\n"
   ]
  },
  {
   "cell_type": "code",
   "execution_count": 164,
   "metadata": {},
   "outputs": [
    {
     "data": {
      "image/png": "[encoded data removed]",
      "text/plain": [
       "<Figure size 432x288 with 1 Axes>"
      ]
     },
     "metadata": {
      "needs_background": "light"
     },
     "output_type": "display_data"
    }
   ],
   "source": [
    "df['exter_qual2'].value_counts()\n",
    "sns.regplot(x='exter_qual2', y='saleprice', data=df, ci=None, color='#F7C547')\n",
    "plt.xlabel('Exterior Quality')\n",
    "plt.xticks([1.8, 2, 3, 4, 5, 5.25], ['', 'Fair', 'Average', 'Good', 'Excellent', ' '])\n",
    "plt.ylabel('Sale Price')\n",
    "plt.show();"
   ]
  },
  {
   "cell_type": "code",
   "execution_count": 171,
   "metadata": {},
   "outputs": [
    {
     "data": {
      "image/png": "[encoded data removed]",
      "text/plain": [
       "<Figure size 432x288 with 1 Axes>"
      ]
     },
     "metadata": {
      "needs_background": "light"
     },
     "output_type": "display_data"
    }
   ],
   "source": [
    "sns.regplot(x='year_remod/add', y='saleprice', data=df, ci=None, color='#506084')\n",
    "plt.xlabel('Year Remodeled')\n",
    "plt.ylabel('Sale Price')\n",
    "plt.show();"
   ]
  },
  {
   "cell_type": "code",
   "execution_count": 174,
   "metadata": {},
   "outputs": [
    {
     "data": {
      "image/png": "[encoded data removed]",
      "text/plain": [
       "<Figure size 432x288 with 1 Axes>"
      ]
     },
     "metadata": {
      "needs_background": "light"
     },
     "output_type": "display_data"
    }
   ],
   "source": [
    "feats\n",
    "\n",
    "sns.regplot(x='garage_cars', y='saleprice', data=df, ci=None, color='#506084')\n",
    "plt.xlabel('Car Garage')\n",
    "plt.ylabel('Sale Price')\n",
    "plt.show();"
   ]
  },
  {
   "cell_type": "code",
   "execution_count": 177,
   "metadata": {},
   "outputs": [
    {
     "data": {
      "image/png": "[encoded data removed]",
      "text/plain": [
       "<Figure size 432x288 with 1 Axes>"
      ]
     },
     "metadata": {
      "needs_background": "light"
     },
     "output_type": "display_data"
    }
   ],
   "source": [
    "sns.regplot(x='additional_area', y='saleprice', data=df, ci=None, color='#506084')\n",
    "plt.xlabel('Pool and Garage Area')\n",
    "plt.ylabel('Sale Price')\n",
    "plt.show();"
   ]
  },
  {
   "cell_type": "code",
   "execution_count": null,
   "metadata": {},
   "outputs": [],
   "source": []
  },
  {
   "cell_type": "code",
   "execution_count": null,
   "metadata": {},
   "outputs": [],
   "source": []
  },
  {
   "cell_type": "code",
   "execution_count": null,
   "metadata": {},
   "outputs": [],
   "source": []
  },
  {
   "cell_type": "markdown",
   "metadata": {},
   "source": [
    "## Final Model Evaluation"
   ]
  },
  {
   "cell_type": "code",
   "execution_count": 56,
   "metadata": {},
   "outputs": [
    {
     "name": "stderr",
     "output_type": "stream",
     "text": [
      "/Users/Asia/opt/anaconda3/lib/python3.8/site-packages/sklearn/utils/validation.py:67: FutureWarning: Pass eps=0.0011 as keyword args. From version 0.25 passing these as positional arguments will result in an error\n",
      "  warnings.warn(\"Pass {} as keyword args. From version 0.25 \"\n"
     ]
    }
   ],
   "source": [
    "# Creating a Pipeline\n",
    "pipe = Pipeline([\n",
    "    ('poly', PolynomialFeatures()),\n",
    "    ('scaler', StandardScaler()),\n",
    "    ('lcv', LassoCV(0.0011)),\n",
    "])"
   ]
  },
  {
   "cell_type": "code",
   "execution_count": 57,
   "metadata": {},
   "outputs": [
    {
     "name": "stderr",
     "output_type": "stream",
     "text": [
      "/Users/Asia/opt/anaconda3/lib/python3.8/site-packages/sklearn/linear_model/_coordinate_descent.py:525: ConvergenceWarning: Objective did not converge. You might want to increase the number of iterations. Duality gap: 0.02571157866867324, tolerance: 0.018985056393276887\n",
      "  model = cd_fast.enet_coordinate_descent_gram(\n",
      "/Users/Asia/opt/anaconda3/lib/python3.8/site-packages/sklearn/linear_model/_coordinate_descent.py:525: ConvergenceWarning: Objective did not converge. You might want to increase the number of iterations. Duality gap: 0.03940644490972289, tolerance: 0.02123372865059612\n",
      "  model = cd_fast.enet_coordinate_descent_gram(\n",
      "/Users/Asia/opt/anaconda3/lib/python3.8/site-packages/sklearn/linear_model/_coordinate_descent.py:525: ConvergenceWarning: Objective did not converge. You might want to increase the number of iterations. Duality gap: 0.03259194187377901, tolerance: 0.02123372865059612\n",
      "  model = cd_fast.enet_coordinate_descent_gram(\n",
      "/Users/Asia/opt/anaconda3/lib/python3.8/site-packages/sklearn/linear_model/_coordinate_descent.py:525: ConvergenceWarning: Objective did not converge. You might want to increase the number of iterations. Duality gap: 0.050792397842634784, tolerance: 0.02123372865059612\n",
      "  model = cd_fast.enet_coordinate_descent_gram(\n",
      "/Users/Asia/opt/anaconda3/lib/python3.8/site-packages/sklearn/linear_model/_coordinate_descent.py:525: ConvergenceWarning: Objective did not converge. You might want to increase the number of iterations. Duality gap: 0.05510920262027241, tolerance: 0.02123372865059612\n",
      "  model = cd_fast.enet_coordinate_descent_gram(\n",
      "/Users/Asia/opt/anaconda3/lib/python3.8/site-packages/sklearn/linear_model/_coordinate_descent.py:525: ConvergenceWarning: Objective did not converge. You might want to increase the number of iterations. Duality gap: 0.06590824620398905, tolerance: 0.02123372865059612\n",
      "  model = cd_fast.enet_coordinate_descent_gram(\n",
      "/Users/Asia/opt/anaconda3/lib/python3.8/site-packages/sklearn/linear_model/_coordinate_descent.py:525: ConvergenceWarning: Objective did not converge. You might want to increase the number of iterations. Duality gap: 0.07722085489970709, tolerance: 0.02123372865059612\n",
      "  model = cd_fast.enet_coordinate_descent_gram(\n",
      "/Users/Asia/opt/anaconda3/lib/python3.8/site-packages/sklearn/linear_model/_coordinate_descent.py:525: ConvergenceWarning: Objective did not converge. You might want to increase the number of iterations. Duality gap: 0.07674765414203932, tolerance: 0.02123372865059612\n",
      "  model = cd_fast.enet_coordinate_descent_gram(\n",
      "/Users/Asia/opt/anaconda3/lib/python3.8/site-packages/sklearn/linear_model/_coordinate_descent.py:525: ConvergenceWarning: Objective did not converge. You might want to increase the number of iterations. Duality gap: 0.08392692603042917, tolerance: 0.02123372865059612\n",
      "  model = cd_fast.enet_coordinate_descent_gram(\n",
      "/Users/Asia/opt/anaconda3/lib/python3.8/site-packages/sklearn/linear_model/_coordinate_descent.py:525: ConvergenceWarning: Objective did not converge. You might want to increase the number of iterations. Duality gap: 0.07634467478490592, tolerance: 0.02123372865059612\n",
      "  model = cd_fast.enet_coordinate_descent_gram(\n",
      "/Users/Asia/opt/anaconda3/lib/python3.8/site-packages/sklearn/linear_model/_coordinate_descent.py:525: ConvergenceWarning: Objective did not converge. You might want to increase the number of iterations. Duality gap: 0.022966328033781735, tolerance: 0.020387490939223596\n",
      "  model = cd_fast.enet_coordinate_descent_gram(\n",
      "/Users/Asia/opt/anaconda3/lib/python3.8/site-packages/sklearn/linear_model/_coordinate_descent.py:525: ConvergenceWarning: Objective did not converge. You might want to increase the number of iterations. Duality gap: 0.025226521414673186, tolerance: 0.020387490939223596\n",
      "  model = cd_fast.enet_coordinate_descent_gram(\n",
      "/Users/Asia/opt/anaconda3/lib/python3.8/site-packages/sklearn/linear_model/_coordinate_descent.py:525: ConvergenceWarning: Objective did not converge. You might want to increase the number of iterations. Duality gap: 0.03333925903002921, tolerance: 0.020387490939223596\n",
      "  model = cd_fast.enet_coordinate_descent_gram(\n",
      "/Users/Asia/opt/anaconda3/lib/python3.8/site-packages/sklearn/linear_model/_coordinate_descent.py:525: ConvergenceWarning: Objective did not converge. You might want to increase the number of iterations. Duality gap: 0.03786156452874678, tolerance: 0.020387490939223596\n",
      "  model = cd_fast.enet_coordinate_descent_gram(\n",
      "/Users/Asia/opt/anaconda3/lib/python3.8/site-packages/sklearn/linear_model/_coordinate_descent.py:525: ConvergenceWarning: Objective did not converge. You might want to increase the number of iterations. Duality gap: 0.04230890580082658, tolerance: 0.020387490939223596\n",
      "  model = cd_fast.enet_coordinate_descent_gram(\n",
      "/Users/Asia/opt/anaconda3/lib/python3.8/site-packages/sklearn/linear_model/_coordinate_descent.py:525: ConvergenceWarning: Objective did not converge. You might want to increase the number of iterations. Duality gap: 0.04690664802309641, tolerance: 0.020387490939223596\n",
      "  model = cd_fast.enet_coordinate_descent_gram(\n",
      "/Users/Asia/opt/anaconda3/lib/python3.8/site-packages/sklearn/linear_model/_coordinate_descent.py:525: ConvergenceWarning: Objective did not converge. You might want to increase the number of iterations. Duality gap: 0.052109715067800266, tolerance: 0.020387490939223596\n",
      "  model = cd_fast.enet_coordinate_descent_gram(\n",
      "/Users/Asia/opt/anaconda3/lib/python3.8/site-packages/sklearn/linear_model/_coordinate_descent.py:525: ConvergenceWarning: Objective did not converge. You might want to increase the number of iterations. Duality gap: 0.07115577502982973, tolerance: 0.020387490939223596\n",
      "  model = cd_fast.enet_coordinate_descent_gram(\n",
      "/Users/Asia/opt/anaconda3/lib/python3.8/site-packages/sklearn/linear_model/_coordinate_descent.py:525: ConvergenceWarning: Objective did not converge. You might want to increase the number of iterations. Duality gap: 0.08503336649206972, tolerance: 0.020387490939223596\n",
      "  model = cd_fast.enet_coordinate_descent_gram(\n",
      "/Users/Asia/opt/anaconda3/lib/python3.8/site-packages/sklearn/linear_model/_coordinate_descent.py:525: ConvergenceWarning: Objective did not converge. You might want to increase the number of iterations. Duality gap: 0.058896474926239506, tolerance: 0.020387490939223596\n",
      "  model = cd_fast.enet_coordinate_descent_gram(\n",
      "/Users/Asia/opt/anaconda3/lib/python3.8/site-packages/sklearn/linear_model/_coordinate_descent.py:525: ConvergenceWarning: Objective did not converge. You might want to increase the number of iterations. Duality gap: 0.021980937761156838, tolerance: 0.021096464136941013\n",
      "  model = cd_fast.enet_coordinate_descent_gram(\n",
      "/Users/Asia/opt/anaconda3/lib/python3.8/site-packages/sklearn/linear_model/_coordinate_descent.py:525: ConvergenceWarning: Objective did not converge. You might want to increase the number of iterations. Duality gap: 0.020873905729384745, tolerance: 0.02050968041562177\n",
      "  model = cd_fast.enet_coordinate_descent_gram(\n",
      "/Users/Asia/opt/anaconda3/lib/python3.8/site-packages/sklearn/linear_model/_coordinate_descent.py:525: ConvergenceWarning: Objective did not converge. You might want to increase the number of iterations. Duality gap: 0.02103893141916302, tolerance: 0.02050968041562177\n",
      "  model = cd_fast.enet_coordinate_descent_gram(\n",
      "/Users/Asia/opt/anaconda3/lib/python3.8/site-packages/sklearn/linear_model/_coordinate_descent.py:525: ConvergenceWarning: Objective did not converge. You might want to increase the number of iterations. Duality gap: 0.02255422851693467, tolerance: 0.02050968041562177\n",
      "  model = cd_fast.enet_coordinate_descent_gram(\n",
      "/Users/Asia/opt/anaconda3/lib/python3.8/site-packages/sklearn/linear_model/_coordinate_descent.py:529: ConvergenceWarning: Objective did not converge. You might want to increase the number of iterations. Duality gap: 0.7122185770005807, tolerance: 0.025556364630464325\n",
      "  model = cd_fast.enet_coordinate_descent(\n"
     ]
    },
    {
     "data": {
      "text/plain": [
       "Pipeline(steps=[('poly', PolynomialFeatures()), ('scaler', StandardScaler()),\n",
       "                ('lcv', LassoCV(eps=0.0011))])"
      ]
     },
     "execution_count": 57,
     "metadata": {},
     "output_type": "execute_result"
    }
   ],
   "source": [
    "# Fitting the training data on the pipeline\n",
    "pipe.fit(X_train, y_train)"
   ]
  },
  {
   "cell_type": "code",
   "execution_count": 58,
   "metadata": {},
   "outputs": [
    {
     "data": {
      "text/plain": [
       "0.9080830937519652"
      ]
     },
     "execution_count": 58,
     "metadata": {},
     "output_type": "execute_result"
    }
   ],
   "source": [
    "pipe.score(X_test, y_test)"
   ]
  },
  {
   "cell_type": "code",
   "execution_count": null,
   "metadata": {},
   "outputs": [],
   "source": []
  },
  {
   "cell_type": "markdown",
   "metadata": {},
   "source": [
    "My final model has an $R^2$ score of 0.9, which means about ~90% of the variance in the data can be explained by my model compared to the baseline model."
   ]
  },
  {
   "cell_type": "code",
   "execution_count": 61,
   "metadata": {},
   "outputs": [],
   "source": [
    "# Creating residuals \n",
    "y_pred = pipe.predict(X_test)"
   ]
  },
  {
   "cell_type": "code",
   "execution_count": 62,
   "metadata": {},
   "outputs": [
    {
     "data": {
      "image/png": "[encoded data removed]",
      "text/plain": [
       "<Figure size 864x720 with 1 Axes>"
      ]
     },
     "metadata": {
      "needs_background": "light"
     },
     "output_type": "display_data"
    }
   ],
   "source": [
    "# Lets visualize the residuals\n",
    "plt.figure(figsize=(12,10))\n",
    "ax = sns.regplot(x=y_test, y=y_pred)\n",
    "ax.set_xlabel('True y value')\n",
    "ax.set_ylabel('Predicted y value')\n",
    "ax.set_title('Residuals');"
   ]
  },
  {
   "cell_type": "code",
   "execution_count": 63,
   "metadata": {},
   "outputs": [
    {
     "name": "stderr",
     "output_type": "stream",
     "text": [
      "/Users/Asia/opt/anaconda3/lib/python3.8/site-packages/seaborn/distributions.py:2551: FutureWarning: `distplot` is a deprecated function and will be removed in a future version. Please adapt your code to use either `displot` (a figure-level function with similar flexibility) or `histplot` (an axes-level function for histograms).\n",
      "  warnings.warn(msg, FutureWarning)\n"
     ]
    },
    {
     "data": {
      "image/png": "[encoded data removed]",
      "text/plain": [
       "<Figure size 936x432 with 1 Axes>"
      ]
     },
     "metadata": {
      "needs_background": "light"
     },
     "output_type": "display_data"
    }
   ],
   "source": [
    "residuals = y_test - y_pred\n",
    "\n",
    "plt.figure(figsize=(13, 6))\n",
    "ax = sns.distplot(residuals)\n",
    "ax.set_xlabel('Residuals')\n",
    "ax.set_title('Distribution of Residuals');"
   ]
  },
  {
   "cell_type": "markdown",
   "metadata": {},
   "source": [
    "## Calculating RMSE and MSE"
   ]
  },
  {
   "cell_type": "code",
   "execution_count": 64,
   "metadata": {},
   "outputs": [
    {
     "data": {
      "text/plain": [
       "0.12347804071151354"
      ]
     },
     "execution_count": 64,
     "metadata": {},
     "output_type": "execute_result"
    }
   ],
   "source": [
    "# calculating RMSE\n",
    "metrics.mean_squared_error(y_test, y_pred) **.5"
   ]
  },
  {
   "cell_type": "code",
   "execution_count": 65,
   "metadata": {},
   "outputs": [
    {
     "data": {
      "text/plain": [
       "611     0.045046\n",
       "111     0.072013\n",
       "1185   -0.007626\n",
       "1510   -0.052239\n",
       "771    -0.149614\n",
       "879    -0.093158\n",
       "591    -0.111189\n",
       "1366   -0.126227\n",
       "1177    0.013881\n",
       "275    -0.105641\n",
       "Name: saleprice_log, dtype: float64"
      ]
     },
     "execution_count": 65,
     "metadata": {},
     "output_type": "execute_result"
    }
   ],
   "source": [
    "residuals[0:10]"
   ]
  },
  {
   "cell_type": "code",
   "execution_count": 66,
   "metadata": {},
   "outputs": [
    {
     "data": {
      "text/plain": [
       "0.015246826537954195"
      ]
     },
     "execution_count": 66,
     "metadata": {},
     "output_type": "execute_result"
    }
   ],
   "source": [
    "# Calculating MSE\n",
    "metrics.mean_squared_error(y_true=y_test, y_pred=y_pred)"
   ]
  },
  {
   "cell_type": "code",
   "execution_count": 92,
   "metadata": {},
   "outputs": [
    {
     "data": {
      "text/plain": [
       "0.12573221948821534"
      ]
     },
     "execution_count": 92,
     "metadata": {},
     "output_type": "execute_result"
    }
   ],
   "source": []
  },
  {
   "cell_type": "code",
   "execution_count": 67,
   "metadata": {},
   "outputs": [
    {
     "data": {
      "text/html": [
       "<div>\n",
       "<style scoped>\n",
       "    .dataframe tbody tr th:only-of-type {\n",
       "        vertical-align: middle;\n",
       "    }\n",
       "\n",
       "    .dataframe tbody tr th {\n",
       "        vertical-align: top;\n",
       "    }\n",
       "\n",
       "    .dataframe thead th {\n",
       "        text-align: right;\n",
       "    }\n",
       "</style>\n",
       "<table border=\"1\" class=\"dataframe\">\n",
       "  <thead>\n",
       "    <tr style=\"text-align: right;\">\n",
       "      <th></th>\n",
       "      <th>saleprice</th>\n",
       "      <th>saleprice_log</th>\n",
       "    </tr>\n",
       "  </thead>\n",
       "  <tbody>\n",
       "    <tr>\n",
       "      <th>0</th>\n",
       "      <td>130500.0</td>\n",
       "      <td>11.779129</td>\n",
       "    </tr>\n",
       "    <tr>\n",
       "      <th>1</th>\n",
       "      <td>220000.0</td>\n",
       "      <td>12.301383</td>\n",
       "    </tr>\n",
       "    <tr>\n",
       "      <th>2</th>\n",
       "      <td>109000.0</td>\n",
       "      <td>11.599103</td>\n",
       "    </tr>\n",
       "    <tr>\n",
       "      <th>3</th>\n",
       "      <td>174000.0</td>\n",
       "      <td>12.066811</td>\n",
       "    </tr>\n",
       "    <tr>\n",
       "      <th>4</th>\n",
       "      <td>138500.0</td>\n",
       "      <td>11.838626</td>\n",
       "    </tr>\n",
       "    <tr>\n",
       "      <th>...</th>\n",
       "      <td>...</td>\n",
       "      <td>...</td>\n",
       "    </tr>\n",
       "    <tr>\n",
       "      <th>2029</th>\n",
       "      <td>298751.0</td>\n",
       "      <td>12.607366</td>\n",
       "    </tr>\n",
       "    <tr>\n",
       "      <th>2030</th>\n",
       "      <td>82500.0</td>\n",
       "      <td>11.320554</td>\n",
       "    </tr>\n",
       "    <tr>\n",
       "      <th>2031</th>\n",
       "      <td>177000.0</td>\n",
       "      <td>12.083905</td>\n",
       "    </tr>\n",
       "    <tr>\n",
       "      <th>2032</th>\n",
       "      <td>144000.0</td>\n",
       "      <td>11.877569</td>\n",
       "    </tr>\n",
       "    <tr>\n",
       "      <th>2033</th>\n",
       "      <td>189000.0</td>\n",
       "      <td>12.149502</td>\n",
       "    </tr>\n",
       "  </tbody>\n",
       "</table>\n",
       "<p>2034 rows × 2 columns</p>\n",
       "</div>"
      ],
      "text/plain": [
       "      saleprice  saleprice_log\n",
       "0      130500.0      11.779129\n",
       "1      220000.0      12.301383\n",
       "2      109000.0      11.599103\n",
       "3      174000.0      12.066811\n",
       "4      138500.0      11.838626\n",
       "...         ...            ...\n",
       "2029   298751.0      12.607366\n",
       "2030    82500.0      11.320554\n",
       "2031   177000.0      12.083905\n",
       "2032   144000.0      11.877569\n",
       "2033   189000.0      12.149502\n",
       "\n",
       "[2034 rows x 2 columns]"
      ]
     },
     "execution_count": 67,
     "metadata": {},
     "output_type": "execute_result"
    }
   ],
   "source": [
    "df[['saleprice', 'saleprice_log']]"
   ]
  },
  {
   "cell_type": "code",
   "execution_count": 95,
   "metadata": {},
   "outputs": [
    {
     "data": {
      "text/plain": [
       "180558.02802359883"
      ]
     },
     "execution_count": 95,
     "metadata": {},
     "output_type": "execute_result"
    }
   ],
   "source": [
    "df['saleprice'].mean()"
   ]
  },
  {
   "cell_type": "code",
   "execution_count": null,
   "metadata": {},
   "outputs": [],
   "source": []
  }
 ],
 "metadata": {
  "kernelspec": {
   "display_name": "Python 3",
   "language": "python",
   "name": "python3"
  },
  "language_info": {
   "codemirror_mode": {
    "name": "ipython",
    "version": 3
   },
   "file_extension": ".py",
   "mimetype": "text/x-python",
   "name": "python",
   "nbconvert_exporter": "python",
   "pygments_lexer": "ipython3",
   "version": "3.8.5"
  }
 },
 "nbformat": 4,
 "nbformat_minor": 4
}
